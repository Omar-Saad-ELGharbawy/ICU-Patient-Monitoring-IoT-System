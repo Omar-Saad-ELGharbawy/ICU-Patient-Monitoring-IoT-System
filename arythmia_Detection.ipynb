{
 "cells": [
  {
   "cell_type": "code",
   "execution_count": 5,
   "metadata": {},
   "outputs": [],
   "source": [
    "import pickle\n",
    "\n",
    "# Load the model using pickle\n",
    "with open('trained_model.pkl', 'rb') as file:\n",
    "    loaded_model = pickle.load(file)\n"
   ]
  },
  {
   "cell_type": "code",
   "execution_count": 6,
   "metadata": {},
   "outputs": [],
   "source": [
    "import pandas as pd\n",
    "from sklearn.model_selection import train_test_split\n",
    "from sklearn.ensemble import RandomForestClassifier\n",
    "from sklearn import metrics\n",
    "from sklearn import preprocessing"
   ]
  },
  {
   "cell_type": "code",
   "execution_count": 10,
   "metadata": {},
   "outputs": [],
   "source": [
    "import neurokit2 as nk\n",
    "import pandas as pd\n",
    "\n",
    "def extract_features(path):\n",
    "    ecg_data = pd.read_csv(path) # replace 'ecg_data.csv' with your file path\n",
    "\n",
    "    ecg_clean = nk.ecg_clean(ecg_data, sampling_rate=500)\n",
    "    _, waves_peak =  nk.ecg_delineate(ecg_clean)\n",
    "    _, rpeaks = nk.ecg_peaks(ecg_data, sampling_rate=500)\n",
    "    # rpeaks=rpeaks['ECG_R_Peaks']\n",
    "    # waves_peak\n",
    "    p_peaks = waves_peak[\"ECG_P_Peaks\"]\n",
    "    q_peaks = waves_peak[\"ECG_Q_Peaks\"]\n",
    "    r_peaks = rpeaks['ECG_R_Peaks']\n",
    "    s_peaks = waves_peak[\"ECG_S_Peaks\"]\n",
    "    t_peaks = waves_peak[\"ECG_T_Peaks\"]\n",
    "\n",
    "    # Create a dictionary from the peaks lists\n",
    "    peaks_dict = {\"ECG_P_Peaks\": p_peaks,\n",
    "                \"ECG_Q_Peaks\": q_peaks,\n",
    "                \"ECG_R_Peaks\": r_peaks,\n",
    "                \"ECG_S_Peaks\": s_peaks,\n",
    "                \"ECG_T_Peaks\": t_peaks}\n",
    "\n",
    "    # Convert the dictionary into a pandas DataFrame\n",
    "    peaks_df = pd.DataFrame(peaks_dict)\n",
    "\n",
    "    # Reset the index to create a column for the peak type\n",
    "    peaks_df.reset_index(inplace=True)\n",
    "\n",
    "    # Rename the index column to 'Peak Type'\n",
    "    peaks_df.rename(columns={\"index\": \"Peak Type\"}, inplace=True)\n",
    "\n",
    "    # Save the peaks_df DataFrame to a csv file\n",
    "    peaks_df.to_csv(\"peaks_data\", index=False)\n",
    "\n",
    "    test_2 = pd.read_csv('./peaks_data')\n",
    "\n",
    "    x_data_test_2 = test_2[['ECG_P_Peaks',\t'ECG_S_Peaks','ECG_R_Peaks',\t'ECG_T_Peaks',\t'ECG_Q_Peaks']]\n",
    "\n",
    "    # Normalize the data\n",
    "    min_max_scaler = preprocessing.MinMaxScaler()\n",
    "    x_data_test_2_scaled = min_max_scaler.fit_transform(x_data_test_2)\n",
    "\n",
    "    # Create a pandas DataFrame from the scaled peaks data\n",
    "    peaks_scaled_df = pd.DataFrame(x_data_test_2_scaled, columns=x_data_test_2.columns)\n",
    "\n",
    "    peaks_scaled_df = peaks_scaled_df.iloc[:-1]\n",
    "\n",
    "\n",
    "    # Save the peaks_scaled_df DataFrame to a csv file\n",
    "    peaks_scaled_df.to_csv('peaks_scaled_data.csv', index=False)"
   ]
  },
  {
   "cell_type": "code",
   "execution_count": 11,
   "metadata": {},
   "outputs": [],
   "source": [
    "extract_features('./ecg_simulated.csv')"
   ]
  },
  {
   "cell_type": "code",
   "execution_count": 15,
   "metadata": {},
   "outputs": [
    {
     "name": "stdout",
     "output_type": "stream",
     "text": [
      "['normal' 'normal' 'normal' 'normal' 'normal' 'normal' 'arrhythmia'\n",
      " 'arrhythmia' 'arrhythmia' 'arrhythmia']\n"
     ]
    }
   ],
   "source": [
    "# Load the CSV file into a DataFrame\n",
    "ecg_features = pd.read_csv('./peaks_scaled_data.csv')\n",
    "ecg_features = ecg_features[['ECG_P_Peaks',\t'ECG_T_Peaks',\t'ECG_R_Peaks',\t'ECG_S_Peaks',\t'ECG_Q_Peaks']]\n",
    "prediction = loaded_model.predict(ecg_features)\n",
    "print(prediction)"
   ]
  },
  {
   "cell_type": "code",
   "execution_count": 16,
   "metadata": {},
   "outputs": [],
   "source": [
    "def predict(ecg_path):\n",
    "    extract_features(ecg_path)\n",
    "    # Load the CSV file into a DataFrame\n",
    "    ecg_features = pd.read_csv('./peaks_scaled_data.csv')\n",
    "    ecg_features = ecg_features[['ECG_P_Peaks',\t'ECG_T_Peaks',\t'ECG_R_Peaks',\t'ECG_S_Peaks',\t'ECG_Q_Peaks']]\n",
    "    prediction = loaded_model.predict(ecg_features)\n",
    "    print(prediction)"
   ]
  },
  {
   "cell_type": "code",
   "execution_count": 17,
   "metadata": {},
   "outputs": [
    {
     "name": "stdout",
     "output_type": "stream",
     "text": [
      "['normal' 'normal' 'normal' 'normal' 'normal' 'normal' 'arrhythmia'\n",
      " 'arrhythmia' 'arrhythmia' 'arrhythmia']\n"
     ]
    }
   ],
   "source": [
    "predict('./ecg_simulated.csv')\n"
   ]
  },
  {
   "cell_type": "code",
   "execution_count": null,
   "metadata": {},
   "outputs": [],
   "source": []
  }
 ],
 "metadata": {
  "kernelspec": {
   "display_name": "Python 3",
   "language": "python",
   "name": "python3"
  },
  "language_info": {
   "codemirror_mode": {
    "name": "ipython",
    "version": 3
   },
   "file_extension": ".py",
   "mimetype": "text/x-python",
   "name": "python",
   "nbconvert_exporter": "python",
   "pygments_lexer": "ipython3",
   "version": "3.11.2"
  }
 },
 "nbformat": 4,
 "nbformat_minor": 2
}
