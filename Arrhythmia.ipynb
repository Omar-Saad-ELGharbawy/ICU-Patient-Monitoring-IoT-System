{
  "cells": [
    {
      "cell_type": "code",
      "execution_count": 1,
      "metadata": {
        "id": "5F47NOGlX6JY"
      },
      "outputs": [],
      "source": [
        "import pandas as pd\n",
        "from sklearn.model_selection import train_test_split\n",
        "from sklearn.ensemble import RandomForestClassifier\n",
        "from sklearn import metrics\n",
        "from sklearn import preprocessing"
      ]
    },
    {
      "cell_type": "code",
      "execution_count": 2,
      "metadata": {
        "colab": {
          "base_uri": "https://localhost:8080/",
          "height": 290
        },
        "id": "T8tLw5c9E-1F",
        "outputId": "9ade693c-d895-4ad1-b7d4-2ea1f49ea77c"
      },
      "outputs": [
        {
          "name": "stdout",
          "output_type": "stream",
          "text": [
            "(175717, 34)\n"
          ]
        },
        {
          "data": {
            "text/html": [
              "<div>\n",
              "<style scoped>\n",
              "    .dataframe tbody tr th:only-of-type {\n",
              "        vertical-align: middle;\n",
              "    }\n",
              "\n",
              "    .dataframe tbody tr th {\n",
              "        vertical-align: top;\n",
              "    }\n",
              "\n",
              "    .dataframe thead th {\n",
              "        text-align: right;\n",
              "    }\n",
              "</style>\n",
              "<table border=\"1\" class=\"dataframe\">\n",
              "  <thead>\n",
              "    <tr style=\"text-align: right;\">\n",
              "      <th></th>\n",
              "      <th>record</th>\n",
              "      <th>type</th>\n",
              "      <th>0_pre-RR</th>\n",
              "      <th>0_post-RR</th>\n",
              "      <th>ECG_P_Peaks</th>\n",
              "      <th>ECG_T_Peaks</th>\n",
              "      <th>ECG_R_Peaks</th>\n",
              "      <th>ECG_S_Peaks</th>\n",
              "      <th>ECG_Q_Peaks</th>\n",
              "      <th>0_qrs_interval</th>\n",
              "      <th>...</th>\n",
              "      <th>1_qPeak</th>\n",
              "      <th>1_qrs_interval</th>\n",
              "      <th>1_pq_interval</th>\n",
              "      <th>1_qt_interval</th>\n",
              "      <th>1_st_interval</th>\n",
              "      <th>1_qrs_morph0</th>\n",
              "      <th>1_qrs_morph1</th>\n",
              "      <th>1_qrs_morph2</th>\n",
              "      <th>1_qrs_morph3</th>\n",
              "      <th>1_qrs_morph4</th>\n",
              "    </tr>\n",
              "  </thead>\n",
              "  <tbody>\n",
              "    <tr>\n",
              "      <th>0</th>\n",
              "      <td>I01</td>\n",
              "      <td>N</td>\n",
              "      <td>163</td>\n",
              "      <td>165</td>\n",
              "      <td>0.069610</td>\n",
              "      <td>-0.083281</td>\n",
              "      <td>0.614133</td>\n",
              "      <td>-0.392761</td>\n",
              "      <td>0.047159</td>\n",
              "      <td>15</td>\n",
              "      <td>...</td>\n",
              "      <td>-0.023370</td>\n",
              "      <td>14</td>\n",
              "      <td>3</td>\n",
              "      <td>23</td>\n",
              "      <td>6</td>\n",
              "      <td>-0.023370</td>\n",
              "      <td>-0.011650</td>\n",
              "      <td>0.082608</td>\n",
              "      <td>0.101373</td>\n",
              "      <td>-0.183387</td>\n",
              "    </tr>\n",
              "    <tr>\n",
              "      <th>1</th>\n",
              "      <td>I01</td>\n",
              "      <td>N</td>\n",
              "      <td>165</td>\n",
              "      <td>166</td>\n",
              "      <td>-0.097030</td>\n",
              "      <td>0.597254</td>\n",
              "      <td>-0.078704</td>\n",
              "      <td>-0.078704</td>\n",
              "      <td>-0.137781</td>\n",
              "      <td>3</td>\n",
              "      <td>...</td>\n",
              "      <td>0.081637</td>\n",
              "      <td>15</td>\n",
              "      <td>5</td>\n",
              "      <td>27</td>\n",
              "      <td>7</td>\n",
              "      <td>0.081637</td>\n",
              "      <td>0.102992</td>\n",
              "      <td>0.191225</td>\n",
              "      <td>0.217544</td>\n",
              "      <td>-0.068248</td>\n",
              "    </tr>\n",
              "    <tr>\n",
              "      <th>2</th>\n",
              "      <td>I01</td>\n",
              "      <td>N</td>\n",
              "      <td>166</td>\n",
              "      <td>102</td>\n",
              "      <td>0.109399</td>\n",
              "      <td>0.680528</td>\n",
              "      <td>-0.010649</td>\n",
              "      <td>-0.010649</td>\n",
              "      <td>-0.720620</td>\n",
              "      <td>6</td>\n",
              "      <td>...</td>\n",
              "      <td>-0.148539</td>\n",
              "      <td>33</td>\n",
              "      <td>13</td>\n",
              "      <td>52</td>\n",
              "      <td>6</td>\n",
              "      <td>-0.148539</td>\n",
              "      <td>-0.060620</td>\n",
              "      <td>0.081080</td>\n",
              "      <td>0.204400</td>\n",
              "      <td>0.335172</td>\n",
              "    </tr>\n",
              "    <tr>\n",
              "      <th>3</th>\n",
              "      <td>I01</td>\n",
              "      <td>VEB</td>\n",
              "      <td>102</td>\n",
              "      <td>231</td>\n",
              "      <td>0.176376</td>\n",
              "      <td>0.256431</td>\n",
              "      <td>-0.101098</td>\n",
              "      <td>-0.707525</td>\n",
              "      <td>-0.101098</td>\n",
              "      <td>4</td>\n",
              "      <td>...</td>\n",
              "      <td>0.046898</td>\n",
              "      <td>21</td>\n",
              "      <td>9</td>\n",
              "      <td>34</td>\n",
              "      <td>4</td>\n",
              "      <td>0.046898</td>\n",
              "      <td>0.083728</td>\n",
              "      <td>0.279512</td>\n",
              "      <td>0.526785</td>\n",
              "      <td>0.450969</td>\n",
              "    </tr>\n",
              "    <tr>\n",
              "      <th>4</th>\n",
              "      <td>I01</td>\n",
              "      <td>N</td>\n",
              "      <td>231</td>\n",
              "      <td>165</td>\n",
              "      <td>0.585577</td>\n",
              "      <td>0.607461</td>\n",
              "      <td>-0.083499</td>\n",
              "      <td>-0.083499</td>\n",
              "      <td>-0.167858</td>\n",
              "      <td>3</td>\n",
              "      <td>...</td>\n",
              "      <td>-0.112552</td>\n",
              "      <td>32</td>\n",
              "      <td>5</td>\n",
              "      <td>43</td>\n",
              "      <td>6</td>\n",
              "      <td>-0.112552</td>\n",
              "      <td>0.012989</td>\n",
              "      <td>0.091491</td>\n",
              "      <td>0.134004</td>\n",
              "      <td>0.265232</td>\n",
              "    </tr>\n",
              "  </tbody>\n",
              "</table>\n",
              "<p>5 rows × 34 columns</p>\n",
              "</div>"
            ],
            "text/plain": [
              "  record type  0_pre-RR  0_post-RR  ECG_P_Peaks  ECG_T_Peaks  ECG_R_Peaks  \\\n",
              "0    I01    N       163        165     0.069610    -0.083281     0.614133   \n",
              "1    I01    N       165        166    -0.097030     0.597254    -0.078704   \n",
              "2    I01    N       166        102     0.109399     0.680528    -0.010649   \n",
              "3    I01  VEB       102        231     0.176376     0.256431    -0.101098   \n",
              "4    I01    N       231        165     0.585577     0.607461    -0.083499   \n",
              "\n",
              "   ECG_S_Peaks  ECG_Q_Peaks  0_qrs_interval  ...   1_qPeak  1_qrs_interval  \\\n",
              "0    -0.392761     0.047159              15  ... -0.023370              14   \n",
              "1    -0.078704    -0.137781               3  ...  0.081637              15   \n",
              "2    -0.010649    -0.720620               6  ... -0.148539              33   \n",
              "3    -0.707525    -0.101098               4  ...  0.046898              21   \n",
              "4    -0.083499    -0.167858               3  ... -0.112552              32   \n",
              "\n",
              "   1_pq_interval  1_qt_interval  1_st_interval  1_qrs_morph0  1_qrs_morph1  \\\n",
              "0              3             23              6     -0.023370     -0.011650   \n",
              "1              5             27              7      0.081637      0.102992   \n",
              "2             13             52              6     -0.148539     -0.060620   \n",
              "3              9             34              4      0.046898      0.083728   \n",
              "4              5             43              6     -0.112552      0.012989   \n",
              "\n",
              "   1_qrs_morph2  1_qrs_morph3  1_qrs_morph4  \n",
              "0      0.082608      0.101373     -0.183387  \n",
              "1      0.191225      0.217544     -0.068248  \n",
              "2      0.081080      0.204400      0.335172  \n",
              "3      0.279512      0.526785      0.450969  \n",
              "4      0.091491      0.134004      0.265232  \n",
              "\n",
              "[5 rows x 34 columns]"
            ]
          },
          "execution_count": 2,
          "metadata": {},
          "output_type": "execute_result"
        }
      ],
      "source": [
        "# Load the CSV file into a DataFrame\n",
        "file_path = 'dataset.csv'  # Assuming you uploaded one file\n",
        "data_df = pd.read_csv(file_path)\n",
        "print(data_df.shape)\n",
        "data_df.head()"
      ]
    },
    {
      "cell_type": "code",
      "execution_count": 3,
      "metadata": {
        "colab": {
          "base_uri": "https://localhost:8080/",
          "height": 243
        },
        "id": "ZG2fRuDlG36X",
        "outputId": "fc1d7b39-336b-4048-a752-56629a7df2da"
      },
      "outputs": [
        {
          "data": {
            "text/html": [
              "<div>\n",
              "<style scoped>\n",
              "    .dataframe tbody tr th:only-of-type {\n",
              "        vertical-align: middle;\n",
              "    }\n",
              "\n",
              "    .dataframe tbody tr th {\n",
              "        vertical-align: top;\n",
              "    }\n",
              "\n",
              "    .dataframe thead th {\n",
              "        text-align: right;\n",
              "    }\n",
              "</style>\n",
              "<table border=\"1\" class=\"dataframe\">\n",
              "  <thead>\n",
              "    <tr style=\"text-align: right;\">\n",
              "      <th></th>\n",
              "      <th>ECG_P_Peaks</th>\n",
              "      <th>ECG_T_Peaks</th>\n",
              "      <th>ECG_R_Peaks</th>\n",
              "      <th>ECG_S_Peaks</th>\n",
              "      <th>ECG_Q_Peaks</th>\n",
              "    </tr>\n",
              "  </thead>\n",
              "  <tbody>\n",
              "    <tr>\n",
              "      <th>0</th>\n",
              "      <td>0.069610</td>\n",
              "      <td>-0.083281</td>\n",
              "      <td>0.614133</td>\n",
              "      <td>-0.392761</td>\n",
              "      <td>0.047159</td>\n",
              "    </tr>\n",
              "    <tr>\n",
              "      <th>1</th>\n",
              "      <td>-0.097030</td>\n",
              "      <td>0.597254</td>\n",
              "      <td>-0.078704</td>\n",
              "      <td>-0.078704</td>\n",
              "      <td>-0.137781</td>\n",
              "    </tr>\n",
              "    <tr>\n",
              "      <th>2</th>\n",
              "      <td>0.109399</td>\n",
              "      <td>0.680528</td>\n",
              "      <td>-0.010649</td>\n",
              "      <td>-0.010649</td>\n",
              "      <td>-0.720620</td>\n",
              "    </tr>\n",
              "    <tr>\n",
              "      <th>3</th>\n",
              "      <td>0.176376</td>\n",
              "      <td>0.256431</td>\n",
              "      <td>-0.101098</td>\n",
              "      <td>-0.707525</td>\n",
              "      <td>-0.101098</td>\n",
              "    </tr>\n",
              "    <tr>\n",
              "      <th>4</th>\n",
              "      <td>0.585577</td>\n",
              "      <td>0.607461</td>\n",
              "      <td>-0.083499</td>\n",
              "      <td>-0.083499</td>\n",
              "      <td>-0.167858</td>\n",
              "    </tr>\n",
              "  </tbody>\n",
              "</table>\n",
              "</div>"
            ],
            "text/plain": [
              "   ECG_P_Peaks  ECG_T_Peaks  ECG_R_Peaks  ECG_S_Peaks  ECG_Q_Peaks\n",
              "0     0.069610    -0.083281     0.614133    -0.392761     0.047159\n",
              "1    -0.097030     0.597254    -0.078704    -0.078704    -0.137781\n",
              "2     0.109399     0.680528    -0.010649    -0.010649    -0.720620\n",
              "3     0.176376     0.256431    -0.101098    -0.707525    -0.101098\n",
              "4     0.585577     0.607461    -0.083499    -0.083499    -0.167858"
            ]
          },
          "execution_count": 3,
          "metadata": {},
          "output_type": "execute_result"
        }
      ],
      "source": [
        "x_data = data_df[['ECG_P_Peaks',\t'ECG_T_Peaks',\t'ECG_R_Peaks',\t'ECG_S_Peaks',\t'ECG_Q_Peaks']]\n",
        "y_label = data_df[['type']]\n",
        "x_data.head()"
      ]
    },
    {
      "cell_type": "code",
      "execution_count": 4,
      "metadata": {
        "colab": {
          "base_uri": "https://localhost:8080/"
        },
        "id": "ApN5jqG6G4iO",
        "outputId": "e84880d6-f9f4-4ee5-8b35-896a122935da"
      },
      "outputs": [
        {
          "data": {
            "text/plain": [
              "type\n",
              "N       153543\n",
              "VEB      19996\n",
              "SVEB      1955\n",
              "F          218\n",
              "Q            5\n",
              "Name: count, dtype: int64"
            ]
          },
          "execution_count": 4,
          "metadata": {},
          "output_type": "execute_result"
        }
      ],
      "source": [
        "y_label.value_counts()"
      ]
    },
    {
      "cell_type": "code",
      "execution_count": 5,
      "metadata": {
        "colab": {
          "base_uri": "https://localhost:8080/"
        },
        "id": "VNt6TJBJG_bR",
        "outputId": "370aa9d1-0e3e-407c-cb2c-be49a00617e7"
      },
      "outputs": [
        {
          "name": "stderr",
          "output_type": "stream",
          "text": [
            "C:\\Users\\Mayar Ehab\\AppData\\Local\\Temp\\ipykernel_11820\\1460342108.py:2: SettingWithCopyWarning: \n",
            "A value is trying to be set on a copy of a slice from a DataFrame\n",
            "\n",
            "See the caveats in the documentation: https://pandas.pydata.org/pandas-docs/stable/user_guide/indexing.html#returning-a-view-versus-a-copy\n",
            "  y_label.replace(['VEB', 'SVEB', 'F', 'Q'], 'arrhythmia', inplace=True)\n",
            "C:\\Users\\Mayar Ehab\\AppData\\Local\\Temp\\ipykernel_11820\\1460342108.py:3: SettingWithCopyWarning: \n",
            "A value is trying to be set on a copy of a slice from a DataFrame\n",
            "\n",
            "See the caveats in the documentation: https://pandas.pydata.org/pandas-docs/stable/user_guide/indexing.html#returning-a-view-versus-a-copy\n",
            "  y_label.replace(['N'], 'normal', inplace=True)\n"
          ]
        }
      ],
      "source": [
        "# Transform multi-class labels into binary-class (arrhythmia and normal)\n",
        "y_label.replace(['VEB', 'SVEB', 'F', 'Q'], 'arrhythmia', inplace=True)\n",
        "y_label.replace(['N'], 'normal', inplace=True)"
      ]
    },
    {
      "cell_type": "code",
      "execution_count": 6,
      "metadata": {
        "colab": {
          "base_uri": "https://localhost:8080/"
        },
        "id": "LENC7Qr0HB_4",
        "outputId": "e6c5e2a6-250f-4da8-d9d5-4e386570542e"
      },
      "outputs": [
        {
          "data": {
            "text/plain": [
              "type      \n",
              "normal        153543\n",
              "arrhythmia     22174\n",
              "Name: count, dtype: int64"
            ]
          },
          "execution_count": 6,
          "metadata": {},
          "output_type": "execute_result"
        }
      ],
      "source": [
        "y_label.value_counts()"
      ]
    },
    {
      "cell_type": "code",
      "execution_count": 7,
      "metadata": {
        "id": "_1NUrEskHFOz"
      },
      "outputs": [],
      "source": [
        "X_train, X_test, y_train, y_test = train_test_split(x_data, y_label, random_state=101)"
      ]
    },
    {
      "cell_type": "code",
      "execution_count": 8,
      "metadata": {
        "colab": {
          "base_uri": "https://localhost:8080/"
        },
        "id": "1BfbYDhjHJ0E",
        "outputId": "40d4508c-b316-40a0-f364-f025960cf319"
      },
      "outputs": [
        {
          "data": {
            "text/html": [
              "<div>\n",
              "<style scoped>\n",
              "    .dataframe tbody tr th:only-of-type {\n",
              "        vertical-align: middle;\n",
              "    }\n",
              "\n",
              "    .dataframe tbody tr th {\n",
              "        vertical-align: top;\n",
              "    }\n",
              "\n",
              "    .dataframe thead th {\n",
              "        text-align: right;\n",
              "    }\n",
              "</style>\n",
              "<table border=\"1\" class=\"dataframe\">\n",
              "  <thead>\n",
              "    <tr style=\"text-align: right;\">\n",
              "      <th></th>\n",
              "      <th>ECG_P_Peaks</th>\n",
              "      <th>ECG_T_Peaks</th>\n",
              "      <th>ECG_R_Peaks</th>\n",
              "      <th>ECG_S_Peaks</th>\n",
              "      <th>ECG_Q_Peaks</th>\n",
              "    </tr>\n",
              "  </thead>\n",
              "  <tbody>\n",
              "    <tr>\n",
              "      <th>150065</th>\n",
              "      <td>-0.084840</td>\n",
              "      <td>-0.046499</td>\n",
              "      <td>0.498124</td>\n",
              "      <td>-0.331789</td>\n",
              "      <td>-0.162957</td>\n",
              "    </tr>\n",
              "    <tr>\n",
              "      <th>156914</th>\n",
              "      <td>-0.081846</td>\n",
              "      <td>1.031785</td>\n",
              "      <td>-0.018805</td>\n",
              "      <td>-0.018805</td>\n",
              "      <td>-0.192156</td>\n",
              "    </tr>\n",
              "    <tr>\n",
              "      <th>19860</th>\n",
              "      <td>0.019894</td>\n",
              "      <td>0.487474</td>\n",
              "      <td>-0.035378</td>\n",
              "      <td>-0.035378</td>\n",
              "      <td>-0.038406</td>\n",
              "    </tr>\n",
              "    <tr>\n",
              "      <th>146080</th>\n",
              "      <td>0.047778</td>\n",
              "      <td>-0.013719</td>\n",
              "      <td>1.141693</td>\n",
              "      <td>-0.321145</td>\n",
              "      <td>-0.069725</td>\n",
              "    </tr>\n",
              "    <tr>\n",
              "      <th>35028</th>\n",
              "      <td>-0.083297</td>\n",
              "      <td>-0.265847</td>\n",
              "      <td>1.074617</td>\n",
              "      <td>-0.565727</td>\n",
              "      <td>-0.091438</td>\n",
              "    </tr>\n",
              "    <tr>\n",
              "      <th>...</th>\n",
              "      <td>...</td>\n",
              "      <td>...</td>\n",
              "      <td>...</td>\n",
              "      <td>...</td>\n",
              "      <td>...</td>\n",
              "    </tr>\n",
              "    <tr>\n",
              "      <th>148429</th>\n",
              "      <td>-0.061852</td>\n",
              "      <td>-0.082882</td>\n",
              "      <td>0.605401</td>\n",
              "      <td>-0.355877</td>\n",
              "      <td>-0.142985</td>\n",
              "    </tr>\n",
              "    <tr>\n",
              "      <th>151535</th>\n",
              "      <td>-0.024462</td>\n",
              "      <td>-0.277038</td>\n",
              "      <td>1.381443</td>\n",
              "      <td>-0.627130</td>\n",
              "      <td>-0.137996</td>\n",
              "    </tr>\n",
              "    <tr>\n",
              "      <th>55293</th>\n",
              "      <td>-0.047636</td>\n",
              "      <td>0.088934</td>\n",
              "      <td>0.595146</td>\n",
              "      <td>-0.886812</td>\n",
              "      <td>-0.100382</td>\n",
              "    </tr>\n",
              "    <tr>\n",
              "      <th>49751</th>\n",
              "      <td>-0.055215</td>\n",
              "      <td>-0.257705</td>\n",
              "      <td>1.309982</td>\n",
              "      <td>-0.656260</td>\n",
              "      <td>-0.073344</td>\n",
              "    </tr>\n",
              "    <tr>\n",
              "      <th>136767</th>\n",
              "      <td>-0.032358</td>\n",
              "      <td>-0.081589</td>\n",
              "      <td>0.879634</td>\n",
              "      <td>-0.397129</td>\n",
              "      <td>-0.056165</td>\n",
              "    </tr>\n",
              "  </tbody>\n",
              "</table>\n",
              "<p>131787 rows × 5 columns</p>\n",
              "</div>"
            ],
            "text/plain": [
              "        ECG_P_Peaks  ECG_T_Peaks  ECG_R_Peaks  ECG_S_Peaks  ECG_Q_Peaks\n",
              "150065    -0.084840    -0.046499     0.498124    -0.331789    -0.162957\n",
              "156914    -0.081846     1.031785    -0.018805    -0.018805    -0.192156\n",
              "19860      0.019894     0.487474    -0.035378    -0.035378    -0.038406\n",
              "146080     0.047778    -0.013719     1.141693    -0.321145    -0.069725\n",
              "35028     -0.083297    -0.265847     1.074617    -0.565727    -0.091438\n",
              "...             ...          ...          ...          ...          ...\n",
              "148429    -0.061852    -0.082882     0.605401    -0.355877    -0.142985\n",
              "151535    -0.024462    -0.277038     1.381443    -0.627130    -0.137996\n",
              "55293     -0.047636     0.088934     0.595146    -0.886812    -0.100382\n",
              "49751     -0.055215    -0.257705     1.309982    -0.656260    -0.073344\n",
              "136767    -0.032358    -0.081589     0.879634    -0.397129    -0.056165\n",
              "\n",
              "[131787 rows x 5 columns]"
            ]
          },
          "execution_count": 8,
          "metadata": {},
          "output_type": "execute_result"
        }
      ],
      "source": [
        "X_train"
      ]
    },
    {
      "cell_type": "code",
      "execution_count": 9,
      "metadata": {
        "colab": {
          "base_uri": "https://localhost:8080/"
        },
        "id": "oteIwIv6HM9J",
        "outputId": "4d9ec468-af32-4082-cc94-e41d23289d0a"
      },
      "outputs": [
        {
          "name": "stderr",
          "output_type": "stream",
          "text": [
            "c:\\Users\\Mayar Ehab\\AppData\\Local\\Programs\\Python\\Python312\\Lib\\site-packages\\sklearn\\base.py:1152: DataConversionWarning: A column-vector y was passed when a 1d array was expected. Please change the shape of y to (n_samples,), for example using ravel().\n",
            "  return fit_method(estimator, *args, **kwargs)\n"
          ]
        },
        {
          "name": "stdout",
          "output_type": "stream",
          "text": [
            "Accuracy for the train data 1.0\n"
          ]
        }
      ],
      "source": [
        "model = RandomForestClassifier(random_state=101, n_estimators=150)\n",
        "model.fit(X_train, y_train)\n",
        "\n",
        "# training accuracy\n",
        "print('Accuracy for the train data', model.score(X_train, y_train))"
      ]
    },
    {
      "cell_type": "code",
      "execution_count": 10,
      "metadata": {
        "colab": {
          "base_uri": "https://localhost:8080/"
        },
        "id": "tmU-GRaIHNeQ",
        "outputId": "af167284-2008-4800-dab2-f1742c64f263"
      },
      "outputs": [
        {
          "name": "stdout",
          "output_type": "stream",
          "text": [
            "['arrhythmia' 'normal' 'normal' ... 'arrhythmia' 'normal' 'normal']\n",
            "Accuracy: 0.9787389027999089\n",
            "*** Confusion Matrix ***\n",
            "[[ 4845   697]\n",
            " [  237 38151]]\n"
          ]
        }
      ],
      "source": [
        "y_pred = model.predict(X_test)\n",
        "print(y_pred)\n",
        "print(\"Accuracy:\",metrics.accuracy_score(y_test, y_pred))\n",
        "\n",
        "print(\"*** Confusion Matrix ***\")\n",
        "print(metrics.confusion_matrix(y_test, y_pred))"
      ]
    },
    {
      "cell_type": "code",
      "execution_count": 28,
      "metadata": {},
      "outputs": [
        {
          "name": "stdout",
          "output_type": "stream",
          "text": [
            "['arrhythmia']\n"
          ]
        }
      ],
      "source": [
        "# Load the CSV file into a DataFrame\n",
        "test_2 = pd.read_csv('./data/with_5.csv')\n",
        "\n",
        "x_data_test_2 = test_2[['ECG_P_Peaks',\t'ECG_T_Peaks',\t'ECG_R_Peaks',\t'ECG_S_Peaks',\t'ECG_Q_Peaks']]\n",
        "\t\t\t\t\n",
        "y_pred_test = model.predict(x_data_test_2)\n",
        "print(y_pred_test)"
      ]
    },
    {
      "cell_type": "code",
      "execution_count": 12,
      "metadata": {},
      "outputs": [],
      "source": [
        "import neurokit2 as nk\n",
        "import pandas as pd\n",
        "\n",
        "def extract_features(path):\n",
        "    ecg_data = pd.read_csv(path) # replace 'ecg_data.csv' with your file path\n",
        "\n",
        "    ecg_clean = nk.ecg_clean(ecg_data, sampling_rate=500)\n",
        "    _, waves_peak =  nk.ecg_delineate(ecg_clean)\n",
        "    _, rpeaks = nk.ecg_peaks(ecg_data, sampling_rate=500)\n",
        "    # rpeaks=rpeaks['ECG_R_Peaks']\n",
        "    waves_peak\n",
        "    p_peaks = waves_peak[\"ECG_P_Peaks\"]\n",
        "    q_peaks = waves_peak[\"ECG_Q_Peaks\"]\n",
        "    r_peaks = rpeaks['ECG_R_Peaks']\n",
        "    s_peaks = waves_peak[\"ECG_S_Peaks\"]\n",
        "    t_peaks = waves_peak[\"ECG_T_Peaks\"]\n",
        "\n",
        "    # Create a dictionary from the peaks lists\n",
        "    peaks_dict = {\"ECG_P_Peaks\": p_peaks,\n",
        "                \"ECG_Q_Peaks\": q_peaks,\n",
        "                \"ECG_R_Peaks\": r_peaks,\n",
        "                \"ECG_S_Peaks\": s_peaks,\n",
        "                \"ECG_T_Peaks\": t_peaks}\n",
        "\n",
        "    # Convert the dictionary into a pandas DataFrame\n",
        "    peaks_df = pd.DataFrame(peaks_dict)\n",
        "\n",
        "    # Reset the index to create a column for the peak type\n",
        "    peaks_df.reset_index(inplace=True)\n",
        "\n",
        "    # Rename the index column to 'Peak Type'\n",
        "    peaks_df.rename(columns={\"index\": \"Peak Type\"}, inplace=True)\n",
        "\n",
        "    # Save the peaks_df DataFrame to a csv file\n",
        "    peaks_df.to_csv(\"peaks_data\", index=False)\n",
        "\n",
        "    test_2 = pd.read_csv('./peaks_data')\n",
        "\n",
        "    x_data_test_2 = test_2[['ECG_P_Peaks',\t'ECG_S_Peaks','ECG_R_Peaks',\t'ECG_T_Peaks',\t'ECG_Q_Peaks']]\n",
        "\n",
        "    # Normalize the data\n",
        "    min_max_scaler = preprocessing.MinMaxScaler()\n",
        "    x_data_test_2_scaled = min_max_scaler.fit_transform(x_data_test_2)\n",
        "\n",
        "    # Create a pandas DataFrame from the scaled peaks data\n",
        "    peaks_scaled_df = pd.DataFrame(x_data_test_2_scaled, columns=x_data_test_2.columns)\n",
        "\n",
        "    # Save the peaks_scaled_df DataFrame to a csv file\n",
        "    peaks_scaled_df.to_csv('peaks_scaled_data.csv', index=False)"
      ]
    },
    {
      "cell_type": "code",
      "execution_count": 13,
      "metadata": {},
      "outputs": [],
      "source": [
        "extract_features('./ecg_simulated.csv')"
      ]
    }
  ],
  "metadata": {
    "colab": {
      "provenance": []
    },
    "kernelspec": {
      "display_name": "Python 3",
      "name": "python3"
    },
    "language_info": {
      "codemirror_mode": {
        "name": "ipython",
        "version": 3
      },
      "file_extension": ".py",
      "mimetype": "text/x-python",
      "name": "python",
      "nbconvert_exporter": "python",
      "pygments_lexer": "ipython3",
      "version": "3.12.1"
    }
  },
  "nbformat": 4,
  "nbformat_minor": 0
}
