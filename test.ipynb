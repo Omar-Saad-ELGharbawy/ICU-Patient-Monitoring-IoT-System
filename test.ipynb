{
 "cells": [
  {
   "cell_type": "code",
   "execution_count": 1,
   "metadata": {},
   "outputs": [],
   "source": [
    "numbers = [\n",
    "    1.093774634872049, 1.0892154939446668, 1.0787373098757296, 1.062269448510674, 1.039890995893553,\n",
    "    1.0120302188268195, 0.979118414502263, 0.9415878353770911, 0.8998716891739326, 0.8544041388808368,\n",
    "    0.8056203027512739, 0.7539592233250766, 0.6998730998589321, 0.643818220795893, 0.5862518298466635\n",
    "]"
   ]
  },
  {
   "cell_type": "code",
   "execution_count": 2,
   "metadata": {},
   "outputs": [],
   "source": [
    "import csv\n",
    "\n",
    "# Specify the filename\n",
    "filename = 'ecg_data.csv'\n",
    "\n",
    "# Write the list to a CSV file with a column header\n",
    "with open(filename, mode='w', newline='') as file:\n",
    "    writer = csv.writer(file)\n",
    "    writer.writerow(['ECG'])  # Writing the column header\n",
    "    for number in numbers:\n",
    "        writer.writerow([number])  # Writing each number as a separate row in the 'ECG' column\n"
   ]
  },
  {
   "cell_type": "code",
   "execution_count": 3,
   "metadata": {},
   "outputs": [],
   "source": [
    "import csv\n",
    "\n",
    "# Read the CSV file and store it as an array\n",
    "with open('./ecg_1.csv', 'r') as f:\n",
    "    reader = csv.reader(f)\n",
    "    data = list(reader)\n",
    "\n",
    "# Print the array to a text file\n",
    "with open('output.txt', 'w') as f:\n",
    "    for row in data:\n",
    "        f.write(', '.join(row))\n",
    "        f.write('\\n')\n"
   ]
  },
  {
   "cell_type": "code",
   "execution_count": 7,
   "metadata": {},
   "outputs": [],
   "source": [
    "import csv\n",
    "\n",
    "# Open the CSV file\n",
    "with open('./ecg_1.csv', 'r') as csv_file:\n",
    "    csv_reader = csv.reader(csv_file)\n",
    "    \n",
    "    # Open the TXT file\n",
    "    with open('output2.txt', 'w') as txt_file:\n",
    "        for row in csv_reader:\n",
    "            # Join the elements in the row with a comma and write to the TXT file\n",
    "            txt_file.write(','.join(row))\n",
    "            txt_file.write(',')\n"
   ]
  },
  {
   "cell_type": "code",
   "execution_count": 9,
   "metadata": {},
   "outputs": [],
   "source": [
    "import csv\n",
    "count = 0\n",
    "# Open the CSV file\n",
    "with open('./ecg_1.csv', 'r') as csv_file:\n",
    "    csv_reader = csv.reader(csv_file)\n",
    "    \n",
    "    # Open the TXT file\n",
    "    with open('output3.txt', 'w') as txt_file:\n",
    "        for row in csv_reader:\n",
    "            count +=1\n",
    "            # Join the elements in the row with a comma and write to the TXT file\n",
    "            txt_file.write(','.join(row))\n",
    "            txt_file.write(',')\n",
    "            # Stop after writing 4000 numbers\n",
    "            if count == 4000:\n",
    "                break\n"
   ]
  },
  {
   "cell_type": "code",
   "execution_count": 10,
   "metadata": {},
   "outputs": [
    {
     "name": "stdout",
     "output_type": "stream",
     "text": [
      "1.09\n"
     ]
    }
   ],
   "source": [
    "s = '1.09'\n",
    "f = float(s)\n",
    "print(f)\n"
   ]
  },
  {
   "cell_type": "code",
   "execution_count": 1,
   "metadata": {},
   "outputs": [
    {
     "name": "stdout",
     "output_type": "stream",
     "text": [
      "File 'my_data\\ecg_simulated.csv' successfully processed. Formatted data saved to 'my_data\\ecg_2.csv'.\n"
     ]
    }
   ],
   "source": [
    "import csv\n",
    "\n",
    "# Function to format numbers to 4 decimal places\n",
    "def format_floats(row):\n",
    "    return [round(float(value), 4) for value in row]\n",
    "\n",
    "input_filename = 'my_data\\ecg_simulated.csv'\n",
    "output_filename = 'my_data\\ecg_2.csv'\n",
    "\n",
    "try:\n",
    "    with open(input_filename, 'r', newline='') as infile, open(output_filename, 'w', newline='') as outfile:\n",
    "        reader = csv.reader(infile)\n",
    "        writer = csv.writer(outfile)\n",
    "\n",
    "        for row in reader:\n",
    "            formatted_row = format_floats(row)\n",
    "            writer.writerow(formatted_row)\n",
    "        \n",
    "    print(f\"File '{input_filename}' successfully processed. Formatted data saved to '{output_filename}'.\")\n",
    "except FileNotFoundError:\n",
    "    print(\"File not found.\")\n",
    "except Exception as e:\n",
    "    print(f\"An error occurred: {e}\")\n"
   ]
  },
  {
   "cell_type": "code",
   "execution_count": null,
   "metadata": {},
   "outputs": [],
   "source": []
  }
 ],
 "metadata": {
  "kernelspec": {
   "display_name": "Python 3",
   "language": "python",
   "name": "python3"
  },
  "language_info": {
   "codemirror_mode": {
    "name": "ipython",
    "version": 3
   },
   "file_extension": ".py",
   "mimetype": "text/x-python",
   "name": "python",
   "nbconvert_exporter": "python",
   "pygments_lexer": "ipython3",
   "version": "3.11.2"
  }
 },
 "nbformat": 4,
 "nbformat_minor": 2
}
